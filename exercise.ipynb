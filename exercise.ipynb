{
 "cells": [
  {
   "cell_type": "code",
   "execution_count": 1,
   "metadata": {},
   "outputs": [
    {
     "name": "stdout",
     "output_type": "stream",
     "text": [
      "Hello, World!\n"
     ]
    }
   ],
   "source": [
    "# Exercise 1\n",
    "# 1 - Show the \"Hello, World!\"\n",
    "\n",
    "print(\"Hello, World!\")"
   ]
  },
  {
   "cell_type": "code",
   "execution_count": 2,
   "metadata": {},
   "outputs": [
    {
     "name": "stdout",
     "output_type": "stream",
     "text": [
      "É um prazer te conhecer, joao!\n"
     ]
    }
   ],
   "source": [
    "# Exercise 2\n",
    "# 1 - Ask the user name\n",
    "\n",
    "nome = str(input(\"Digite seu nome: \"))\n",
    "print(f'É um prazer te conhecer, {nome}!')"
   ]
  },
  {
   "cell_type": "code",
   "execution_count": 3,
   "metadata": {},
   "outputs": [
    {
     "name": "stdout",
     "output_type": "stream",
     "text": [
      "A soma de 4 e 4 é: 8\n"
     ]
    }
   ],
   "source": [
    "# Exercise 3\n",
    "# 1 - Sum two numbers\n",
    "\n",
    "num1 = int(input(\"Digite um número: \"))\n",
    "num2 = int(input(\"Digite outro número: \"))\n",
    "sum = num1 + num2\n",
    "print(f'A soma de {num1} e {num2} é: {sum}')"
   ]
  },
  {
   "cell_type": "code",
   "execution_count": 6,
   "metadata": {},
   "outputs": [
    {
     "name": "stdout",
     "output_type": "stream",
     "text": [
      "O tipo primitivo é <class 'str'>\n",
      "Só tem espaço? False\n",
      "É um número? False\n",
      "É alfabético? False\n",
      "É alfanumérico? True\n",
      "Está em maiúsculo? False\n",
      "Ésta em minúsculo? False\n",
      "Está capitalizado? True\n"
     ]
    }
   ],
   "source": [
    "# Exercise 4\n",
    "# 1 - Know all about the variable\n",
    "\n",
    "a = input(\"Digite algo: \")\n",
    "print(f\"O tipo primitivo é {type(a)}\")\n",
    "print(f\"Só tem espaço? {a.isspace()}\")\n",
    "print(f\"É um número? {a.isnumeric()}\")\n",
    "print(f\"É alfabético? {a.isalpha()}\")\n",
    "print(f\"É alfanumérico? {a.isalnum()}\")\n",
    "print(f\"Está em maiúsculo? {a.isupper()}\")\n",
    "print(f\"Ésta em minúsculo? {a.islower()}\")\n",
    "print(f\"Está capitalizado? {a.istitle()}\")"
   ]
  },
  {
   "cell_type": "code",
   "execution_count": 7,
   "metadata": {},
   "outputs": [
    {
     "name": "stdout",
     "output_type": "stream",
     "text": [
      "Após análise identificamos que o antecessor e sucessor do número 7 são, respectivamente, 6 e 8!\n"
     ]
    }
   ],
   "source": [
    "# Exercise 5\n",
    "# 1 - Show the number before and the next from the user's number\n",
    "\n",
    "num = int(input(\"Digite um número: \"))\n",
    "print(f\"Após análise identificamos que o antecessor e sucessor do número {num} são, respectivamente, {num - 1} e {num + 1}!\")"
   ]
  },
  {
   "cell_type": "code",
   "execution_count": 9,
   "metadata": {},
   "outputs": [
    {
     "name": "stdout",
     "output_type": "stream",
     "text": [
      "O dobro de 8 é 16\n",
      "O triplo de 8 é 24\n",
      "O dobro de 8 é 2.83\n"
     ]
    }
   ],
   "source": [
    "# Exercise 6\n",
    "# 1 - Do user's number x2, x3 and the square root\n",
    "#import math\n",
    "#from math import sqrt\n",
    "\n",
    "n = int(input(\"Digite um número: \"))\n",
    "print(f\"O dobro de {n} é {n * 2}\")\n",
    "print(f\"O triplo de {n} é {n * 3}\")\n",
    "# print(f\"A raiz quadrada de {n} é {sqrt(n):.2f}\")\n",
    "print(f\"O dobro de {n} é {n ** (1/2):.2f}\")"
   ]
  },
  {
   "cell_type": "code",
   "execution_count": 11,
   "metadata": {},
   "outputs": [
    {
     "name": "stdout",
     "output_type": "stream",
     "text": [
      "A média entre 5.6 e 7.8 é 6.70\n"
     ]
    }
   ],
   "source": [
    "# Exercise 7\n",
    "# 1 - Show the average\n",
    "\n",
    "fst = float(input(\"Primeira nota do aluno: \"))\n",
    "snd = float(input(\"Segunda nota do aluno: \"))\n",
    "avg = (fst + snd) / 2 \n",
    "print(f\"A média entre {fst} e {snd} é {avg:.2f}\")"
   ]
  },
  {
   "cell_type": "code",
   "execution_count": 17,
   "metadata": {},
   "outputs": [
    {
     "name": "stdout",
     "output_type": "stream",
     "text": [
      "A medida, 8m, convertida para Quilômetro é 0.008km!\n",
      "A medida, 8m, convertida para Hecâmetro é 0.08hm!\n",
      "A medida, 8m, convertida para decâmetro é 0.8dam!\n",
      "A medida, 8m, convertida para Decímetro é 80dm!\n",
      "A medida, 8m, convertida para Centímetro é 800cm!\n",
      "A medida, \u001b[0:33m8m\u001b[0:33m, convertida para Milímetro é 8000mm!\n"
     ]
    }
   ],
   "source": [
    "# Exercise 8\n",
    "# 1 - Convert meters \n",
    "dez = 10\n",
    "cem = 100\n",
    "mil = 1000\n",
    "m = float(input(\"Dê uma quantidade em metros: \"))\n",
    "dam = m / dez \n",
    "hm = m / cem\n",
    "km = m / mil \n",
    "dm = m * dez\n",
    "cm = m * cem\n",
    "mm = m * mil\n",
    "\n",
    "print(f\"A medida, {m:.0f}m, convertida para Quilômetro é {km}km!\")\n",
    "print(f\"A medida, {m:.0f}m, convertida para Hecâmetro é {hm}hm!\")\n",
    "print(f\"A medida, {m:.0f}m, convertida para decâmetro é {dam}dam!\")\n",
    "print(f\"A medida, {m:.0f}m, convertida para Decímetro é {dm:.0f}dm!\")\n",
    "print(f\"A medida, {m:.0f}m, convertida para Centímetro é {cm:.0f}cm!\")\n",
    "print(f\"A medida, {m:.0f}m, convertida para Milímetro é {mm:.0f}mm!\")"
   ]
  },
  {
   "cell_type": "code",
   "execution_count": 23,
   "metadata": {},
   "outputs": [
    {
     "name": "stdout",
     "output_type": "stream",
     "text": [
      "8 x  1 =  8\n",
      "8 x  2 = 16\n",
      "8 x  3 = 24\n",
      "8 x  4 = 32\n",
      "8 x  5 = 40\n",
      "8 x  6 = 48\n",
      "8 x  7 = 56\n",
      "8 x  8 = 64\n",
      "8 x  9 = 72\n",
      "8 x 10 = 80\n"
     ]
    }
   ],
   "source": [
    "# Exercise 9\n",
    "# 1 - multiplication table\n",
    "nu = int(input(\"Digite um número: \"))\n",
    "for i in range(1, 11) :\n",
    "    print(f\"{nu} x {i:2} = {nu * i:2}\")"
   ]
  },
  {
   "cell_type": "code",
   "execution_count": 24,
   "metadata": {},
   "outputs": [
    {
     "name": "stdout",
     "output_type": "stream",
     "text": [
      "Se você levar R$3400.00 em alguma casa de câmbio, você terá em dolar U$692.46\n"
     ]
    }
   ],
   "source": [
    "# Exercise 10\n",
    "# 1 - convert real to dolar\n",
    "\n",
    "din = float(input(\"Quanto de dinheiro você tem? R$\"))\n",
    "dol = din / 4.91\n",
    "\n",
    "print(f\"Se você levar R${din:.2f} em alguma casa de câmbio, você terá em dolar U${dol:.2f}\")"
   ]
  },
  {
   "cell_type": "code",
   "execution_count": 25,
   "metadata": {},
   "outputs": [
    {
     "name": "stdout",
     "output_type": "stream",
     "text": [
      "A sua parede tem 20.00m²\n",
      "Será necessário essa quantidade de tinta para pintar essa parede: 10.00l\n"
     ]
    }
   ],
   "source": [
    "# Exercise 11\n",
    "# 1 - painting\n",
    "\n",
    "lag = float(input(\"Largura da parede: \"))\n",
    "alt = float(input(\"Altura da parede: \"))\n",
    "m2 = lag * alt\n",
    "tinta = m2 / 2 \n",
    "\n",
    "print(f\"A sua parede tem {m2:.2f}m²\")\n",
    "print(f\"Será necessário essa quantidade de tinta para pintar essa parede: {tinta:.2f}l\")\n"
   ]
  },
  {
   "cell_type": "code",
   "execution_count": 30,
   "metadata": {},
   "outputs": [
    {
     "name": "stdout",
     "output_type": "stream",
     "text": [
      "O produto na promoção de pagamento no pix terá desconto de 20%, vai sair por: R$280.00\n"
     ]
    }
   ],
   "source": [
    "# Exercise 12\n",
    "# 1 - descount\n",
    "\n",
    "# Solicitar o valor do produto\n",
    "pric = float(input(\"Valor do produto: R$\"))\n",
    "# Solicitar a forma de pagamento\n",
    "pay = int(input(\"Qual será a forma de pagamento? 1. Débito, 2. Crédito ou 3. Pix\"))\n",
    "# Calcular desconto\n",
    "disc_10 = pric - (pric * (10/100))\n",
    "disc_20 = pric - (pric * (20/100))\n",
    "# Passar o valor final\n",
    "if (pay == 1) :\n",
    "    print(f\"O produto na promoção de pagamento no débito terá desconto de 10%, vai sair por: R${disc_10:.2f}\")\n",
    "elif (pay == 3) :\n",
    "    print(f\"O produto na promoção de pagamento no pix terá desconto de 20%, vai sair por: R${disc_20:.2f}\")\n",
    "else :\n",
    "    print(f\"No pagamento no crédito não há desconto, por isso, o produto sai por R${pric:.2f}\")"
   ]
  },
  {
   "cell_type": "code",
   "execution_count": 33,
   "metadata": {},
   "outputs": [
    {
     "name": "stdout",
     "output_type": "stream",
     "text": [
      "O salário sairá de R$2656.50 para R$3054.97\n"
     ]
    }
   ],
   "source": [
    "# Exercise 13\n",
    "# 1 - Salary raise\n",
    "\n",
    "# Solicitar o salário do funcionário\n",
    "sal = float(input(\"Qual é o salário do funcionário? R$\"))\n",
    "# Verificar o tempo de empresa\n",
    "anos = int(input(\"Há quanto tempo trabalha aqui? Por favor considerar apenas anos completos, se ainda não completou 1 ano, pode inserir 0\"))\n",
    "\n",
    "# Verificar as porcentagens de aumento\n",
    "aum_5 = sal + (sal * (5/100))\n",
    "aum_10 = sal + (sal * (10/100))\n",
    "aum_15 = sal + (sal * (15/100))\n",
    "\n",
    "# Analisar tempo de empresa e conceder o aumento\n",
    "if (anos < 1) : \n",
    "    print(\"Infelizmente ainda não podemos dar um aumento! :(\")\n",
    "elif (1 <= anos < 3) :\n",
    "    print(f\"O salário sairá de R${sal:.2f} para R${aum_5:.2f}\")\n",
    "elif (3 <= anos < 5) :\n",
    "    print(f\"O salário sairá de R${sal:.2f} para R${aum_10:.2f}\")\n",
    "else :\n",
    "    print(f\"O salário sairá de R${sal:.2f} para R${aum_15:.2f}\")\n"
   ]
  },
  {
   "cell_type": "code",
   "execution_count": 36,
   "metadata": {},
   "outputs": [
    {
     "name": "stdout",
     "output_type": "stream",
     "text": [
      "A temperatura 32.0 °C em Fahrenheit é 89.6 °F e em Kelvin é 305.0 K\n"
     ]
    }
   ],
   "source": [
    "# Exercise 14\n",
    "\n",
    "c = float(input(\"Qual é a temperatura atual aí, em celcius? \"))\n",
    "\n",
    "f = (c * 1.8) + 32\n",
    "k = c + 273\n",
    "\n",
    "print(f\"A temperatura {c} °C em Fahrenheit é {f} °F e em Kelvin é {k} K\")"
   ]
  },
  {
   "cell_type": "code",
   "execution_count": 39,
   "metadata": {},
   "outputs": [
    {
     "name": "stdout",
     "output_type": "stream",
     "text": [
      "O total a pagar é R$781.95\n"
     ]
    }
   ],
   "source": [
    "# Exercise 15\n",
    "# Diária de aluguel = R$ 60 e o valor cobrado por km é R$0.30 \n",
    "d = int(input(\"Por quantos dias o carro foi alugado? \"))\n",
    "km = int(input(\"Quantos km rodados? \"))\n",
    "\n",
    "pr = (d * 60) + (km * 0.30)\n",
    "\n",
    "print(f\"O total a pagar é R${pr:.2f}\")\n",
    "        "
   ]
  },
  {
   "cell_type": "code",
   "execution_count": 40,
   "metadata": {},
   "outputs": [
    {
     "name": "stdout",
     "output_type": "stream",
     "text": [
      "O valor digitado foi 4.333, e seu valor inteiro é 4\n"
     ]
    }
   ],
   "source": [
    "# Exercise 16\n",
    "import math\n",
    "from math import trunc\n",
    "\n",
    "n = float(input(\"Digite um número: \"))\n",
    "\n",
    "print(f\"O valor digitado foi {n}, e seu valor inteiro é {trunc(n)}\")"
   ]
  },
  {
   "cell_type": "code",
   "execution_count": 42,
   "metadata": {},
   "outputs": [
    {
     "name": "stdout",
     "output_type": "stream",
     "text": [
      "A hipotenusa irá medir: 5.90\n"
     ]
    }
   ],
   "source": [
    "# Exercise 17\n",
    "from math import hypot\n",
    "\n",
    "cat_op = float(input(\"Comprimento do cateto oposto: \"))\n",
    "cat_ad = float(input(\"Comprimento do cateto adjacente: \"))\n",
    "\n",
    "hi = hypot(cat_op, cat_ad)\n",
    "#hip = ((cat_op**2) + (cat_ad**2)) ** (1/2)\n",
    "\n",
    "print(f\"A hipotenusa irá medir: {hi:.2f}\")"
   ]
  },
  {
   "cell_type": "code",
   "execution_count": 48,
   "metadata": {},
   "outputs": [
    {
     "name": "stdout",
     "output_type": "stream",
     "text": [
      "O angulo 45.0° tem o SENO de 0.7071, COSENO de 0.7071 e TANGENTE de 1.00\n"
     ]
    }
   ],
   "source": [
    "# Exercise 18\n",
    "import math\n",
    "from math import radians, sin, cos, tan\n",
    "\n",
    "an = float(input(\"Digite o ângulo que você deseja: \"))\n",
    "seno = sin(radians(an))\n",
    "coseno = cos(radians(an))\n",
    "tangente = tan(radians(an))\n",
    "\n",
    "print(f\"O angulo {an}° tem o SENO de {seno:.4f}, COSENO de {coseno:.4f} e TANGENTE de {tangente:.2f}\")\n"
   ]
  },
  {
   "cell_type": "code",
   "execution_count": 49,
   "metadata": {},
   "outputs": [
    {
     "name": "stdout",
     "output_type": "stream",
     "text": [
      "O aluno sorteado foi joao\n"
     ]
    }
   ],
   "source": [
    "# Exercise 19\n",
    "import random\n",
    "\n",
    "nome1 = str(input(\"Digite o nome de um aluno: \"))\n",
    "nome2 = str(input(\"Digite o nome do segundo aluno: \"))\n",
    "nome3 = str(input(\"Digite o nome do terceiro aluno: \"))\n",
    "nome4 = str(input(\"Digite o nome do quarto aluno: \"))\n",
    "sorteio = [nome1, nome2, nome3, nome4]\n",
    "\n",
    "print(f\"O aluno sorteado foi {random.choice(sorteio)}\")"
   ]
  },
  {
   "cell_type": "code",
   "execution_count": 56,
   "metadata": {},
   "outputs": [
    {
     "name": "stdout",
     "output_type": "stream",
     "text": [
      "A nova ordem será: \n",
      "['victor', 'joao', 'ana', 'luis']\n"
     ]
    }
   ],
   "source": [
    "# Exercise 20\n",
    "\n",
    "nom1 = str(input(\"Digite o nome de um aluno: \"))\n",
    "nom2 = str(input(\"Digite o nome do segundo aluno: \"))\n",
    "nom3 = str(input(\"Digite o nome do terceiro aluno: \"))\n",
    "nom4 = str(input(\"Digite o nome do quarto aluno: \"))\n",
    "\n",
    "lista = [nom1, nom2, nom3, nom4]\n",
    "random.shuffle(lista)\n",
    "\n",
    "print(\"A nova ordem será: \")\n",
    "print(lista)"
   ]
  },
  {
   "cell_type": "code",
   "execution_count": 59,
   "metadata": {},
   "outputs": [
    {
     "name": "stdout",
     "output_type": "stream",
     "text": [
      "Requirement already satisfied: pygame in c:\\users\\anaju\\appdata\\local\\programs\\python\\python310\\lib\\site-packages (2.5.2)\n"
     ]
    },
    {
     "name": "stderr",
     "output_type": "stream",
     "text": [
      "WARNING: You are using pip version 21.2.4; however, version 23.3.1 is available.\n",
      "You should consider upgrading via the 'C:\\Users\\anaju\\AppData\\Local\\Programs\\Python\\Python310\\python.exe -m pip install --upgrade pip' command.\n"
     ]
    },
    {
     "data": {
      "text/plain": [
       "<Event(4352-AudioDeviceAdded {'which': 0, 'iscapture': 0})>"
      ]
     },
     "execution_count": 59,
     "metadata": {},
     "output_type": "execute_result"
    }
   ],
   "source": [
    "# Exercise 21\n",
    "!pip install pygame\n",
    "\n",
    "import pygame\n",
    "pygame.init()\n",
    "\n",
    "pygame.mixer.music.load(\"caravan.mp3\")\n",
    "pygame.mixer.music.play()\n",
    "pygame.event.wait()\n"
   ]
  },
  {
   "cell_type": "code",
   "execution_count": 66,
   "metadata": {},
   "outputs": [
    {
     "name": "stdout",
     "output_type": "stream",
     "text": [
      "Analisando seu nome...\n",
      "Seu nome todo em maiúsculo fica assim: JOAO PEDRO MACHADO\n",
      "Seu nome todo em minúsculo fica assim: joao pedro machado\n",
      "Seu nome tem: 18 letras\n",
      "Seu primeiro nome é joao e tem 4 letras\n"
     ]
    }
   ],
   "source": [
    "# Exercise 22\n",
    "\n",
    "no = str(input(\"Digite seu nome completo: \")).strip()\n",
    "print(\"Analisando seu nome...\")\n",
    "nomes = no.split(' ')\n",
    "\n",
    "print(f'Seu nome todo em maiúsculo fica assim: {no.upper()}')\n",
    "print(f'Seu nome todo em minúsculo fica assim: {no.lower()}')\n",
    "print(f'Seu nome tem: {len(no)} letras')\n",
    "print(f'Seu primeiro nome é {nomes[0]} e tem {len(nomes[0])} letras')\n",
    "\n"
   ]
  },
  {
   "cell_type": "code",
   "execution_count": 67,
   "metadata": {},
   "outputs": [
    {
     "name": "stdout",
     "output_type": "stream",
     "text": [
      "analisando número...\n",
      "Unidade: 0\n",
      "Dezena: 0\n",
      "Centena: 8\n",
      "Milhar: 9\n"
     ]
    }
   ],
   "source": [
    "# Exercise 23\n",
    "\n",
    "num = int(input(\"Digite um número entre 0 e 9999\"))\n",
    "\n",
    "u = num // 1 % 10\n",
    "d = num // 10 % 10\n",
    "c = num // 100 % 10\n",
    "m = num // 1000 % 10\n",
    "\n",
    "print(\"analisando número...\")\n",
    "print(f\"Unidade: {u}\")\n",
    "print(f\"Dezena: {d}\")\n",
    "print(f\"Centena: {c}\")\n",
    "print(f\"Milhar: {m}\")"
   ]
  },
  {
   "cell_type": "code",
   "execution_count": 72,
   "metadata": {},
   "outputs": [
    {
     "name": "stdout",
     "output_type": "stream",
     "text": [
      "True\n"
     ]
    }
   ],
   "source": [
    "# exercise 24\n",
    "\n",
    "# para evitar espaços desnecessários, utilizei \".strip()\"\n",
    "\n",
    "yct = input(\"Em que cidade você nasceu? \").strip()\n",
    "\n",
    "# para evitar problemas de reconhecimento da palavra, deixar a palavra que preciso em maiúsculo, utilizando \".upper()\"\n",
    "\n",
    "print(yct[:5].upper() == \"SANTO\")"
   ]
  },
  {
   "cell_type": "code",
   "execution_count": 73,
   "metadata": {},
   "outputs": [
    {
     "name": "stdout",
     "output_type": "stream",
     "text": [
      "Seu nome tem 'Silva'? True\n"
     ]
    }
   ],
   "source": [
    "# Exercise 25\n",
    "\n",
    "sobr = str(input(\"Qual é o sue nome completo? \")).strip()\n",
    "\n",
    "print(f\"Seu nome tem 'Silva'? {'SILVA' in sobr.upper()}\")"
   ]
  },
  {
   "cell_type": "code",
   "execution_count": 92,
   "metadata": {},
   "outputs": [
    {
     "name": "stdout",
     "output_type": "stream",
     "text": [
      "A sua frase foi '     Amanda ama o paulo  '\n",
      "A letra a aparece 6 vezes na frase\n",
      "A letra a aparece pela primeira vez na posição 1\n",
      "A letra a aparece pela última vez na posição 15\n"
     ]
    }
   ],
   "source": [
    "# Exercise 26\n",
    "\n",
    "fr = str(input('Digite uma frase: '))\n",
    "newfr = fr.upper().strip()\n",
    "        \n",
    "c = newfr.count('A')\n",
    "print(f\"A sua frase foi '{fr}'\")\n",
    "print(f'A letra a aparece {c} vezes na frase')\n",
    "print(f'A letra a aparece pela primeira vez na posição {newfr.find(\"A\") + 1}')\n",
    "print(f'A letra a aparece pela última vez na posição {newfr.rfind(\"A\") + 1}')"
   ]
  },
  {
   "cell_type": "code",
   "execution_count": 93,
   "metadata": {},
   "outputs": [
    {
     "name": "stdout",
     "output_type": "stream",
     "text": [
      "Muito prazer em te conhecer!\n",
      "Seu primeiro nome é João\n",
      "Seu Último nome é Silveira\n"
     ]
    }
   ],
   "source": [
    "# exercise 27\n",
    "\n",
    "na = str(input('Qual é o seu nome completo? ')).strip()\n",
    "\n",
    "nomes = na.split()\n",
    "\n",
    "print('Muito prazer em te conhecer!')\n",
    "print(f'Seu primeiro nome é {nomes[0]}')\n",
    "print(f'Seu Último nome é {nomes[-1]}')"
   ]
  },
  {
   "cell_type": "code",
   "execution_count": 13,
   "metadata": {},
   "outputs": [
    {
     "name": "stdout",
     "output_type": "stream",
     "text": [
      "2\n",
      "3\n",
      "4\n",
      "5\n",
      "1\n",
      "Parabéns, você acertou!\n"
     ]
    }
   ],
   "source": [
    "# exercise 28\n",
    "import random\n",
    "\n",
    "n = random.randint(1, 6)\n",
    "s = 0\n",
    "while s != n :\n",
    "    s = int(input('Adivinhe o número que eu escolhi (Obs.: De 1 ao 6): '))\n",
    "    print(s)\n",
    "    if (s == n) :\n",
    "        print(\"Parabéns, você acertou!\")"
   ]
  }
 ],
 "metadata": {
  "kernelspec": {
   "display_name": "Python 3",
   "language": "python",
   "name": "python3"
  },
  "language_info": {
   "codemirror_mode": {
    "name": "ipython",
    "version": 3
   },
   "file_extension": ".py",
   "mimetype": "text/x-python",
   "name": "python",
   "nbconvert_exporter": "python",
   "pygments_lexer": "ipython3",
   "version": "3.10.2"
  }
 },
 "nbformat": 4,
 "nbformat_minor": 2
}
